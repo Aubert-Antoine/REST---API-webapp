{
 "cells": [
  {
   "cell_type": "code",
   "execution_count": null,
   "metadata": {},
   "outputs": [],
   "source": [
    "import sqlite3"
   ]
  },
  {
   "cell_type": "code",
   "execution_count": null,
   "metadata": {},
   "outputs": [],
   "source": [
    "connection = sqlite3.connect('truthPeople.db')\n",
    "cursor = connection.cursor()"
   ]
  },
  {
   "cell_type": "markdown",
   "metadata": {},
   "source": [
    "je cree une base de donne 'peopleAllow' qui est la liste des personnes qui peuvent accesder a protected_area : \n",
    "n° de ligne | google_id | first Name | last name"
   ]
  },
  {
   "cell_type": "code",
   "execution_count": null,
   "metadata": {},
   "outputs": [],
   "source": [
    "makeTruthPeople = \"\"\"CREATE TABLE IF NOT EXISTS\n",
    "peopleAllow(row INTERGER PRIMARY KEY, goole_id TEXT KEY, firstName, lastNAme)\"\"\""
   ]
  },
  {
   "cell_type": "code",
   "execution_count": null,
   "metadata": {},
   "outputs": [],
   "source": [
    "cursor.execute(makeTruthPeople)"
   ]
  },
  {
   "cell_type": "markdown",
   "metadata": {},
   "source": [
    "liste des personnes :\n",
    "sous la forme d'un tuple"
   ]
  },
  {
   "cell_type": "markdown",
   "metadata": {},
   "source": [
    "#### Liste des personnes **authorisées**"
   ]
  },
  {
   "cell_type": "code",
   "execution_count": null,
   "metadata": {},
   "outputs": [],
   "source": [
    "listOfAllowPeople = [('google_id', 'Antoine', 'Aubert'), ('google_id', 'Pierre', 'Aubert')]"
   ]
  },
  {
   "cell_type": "code",
   "execution_count": null,
   "metadata": {},
   "outputs": [],
   "source": [
    "def addInto(tableName : str, nbValues : int ) -> str :\n",
    "    \"\"\"\n",
    "    addInto revoie une commande SQLite\n",
    "    ex: addInto(people, 3),('a', 1, 1)\n",
    "    La seconde partie correspond au valeurs\n",
    "    \"\"\"\n",
    "    str = \"?\"\n",
    "    for val in nbValues:\n",
    "        str+=\",?\"\n",
    "    \n",
    "    commandeAddInto = \"INSERT INTO {} VALUES {}\".format(tableName.lower(), str)\n",
    "    print(commandeAddInto)"
   ]
  },
  {
   "cell_type": "code",
   "execution_count": null,
   "metadata": {},
   "outputs": [],
   "source": [
    "def test_addInto():\n",
    "    pass"
   ]
  },
  {
   "cell_type": "code",
   "execution_count": null,
   "metadata": {},
   "outputs": [],
   "source": [
    "def addAllowPeople():\n",
    "    n = 1\n",
    "    for people in listOfAllowPeople : \n",
    "        cursor.execute(addInto(\"peopleAllow\", 4 ),n, people[0], people[1], people[2])\n",
    "        n+=1"
   ]
  },
  {
   "cell_type": "code",
   "execution_count": null,
   "metadata": {},
   "outputs": [],
   "source": [
    "def affiche(tableName : str) -> str : \n",
    "    cursor.execute(\"SELECT * FROM {}\".format(tableName))\n",
    "    results = cursor.fetchall()\n",
    "    print(results)"
   ]
  },
  {
   "cell_type": "code",
   "execution_count": null,
   "metadata": {},
   "outputs": [],
   "source": [
    "def delete(table: str, indice: int) -> None : \n",
    "    \"\"\"\n",
    "    delete supprime les element de la table \n",
    "    /!\\ ne drop pas la table \n",
    "    indice est le nombre de lignes a supprinmer\"\"\"\n",
    "    for i in range(indice+1):\n",
    "        cursor.execute(\"DELETE FROM {} WHERE row = {}\".format(table, i))"
   ]
  }
 ],
 "metadata": {
  "kernelspec": {
   "display_name": "Python 3.10.5 64-bit (windows store)",
   "language": "python",
   "name": "python3"
  },
  "language_info": {
   "name": "python",
   "version": "3.10.5"
  },
  "orig_nbformat": 4,
  "vscode": {
   "interpreter": {
    "hash": "4e87ed7f3962434517c25eb050070d235fd9b8942ce30e13884a6950b582033b"
   }
  }
 },
 "nbformat": 4,
 "nbformat_minor": 2
}
